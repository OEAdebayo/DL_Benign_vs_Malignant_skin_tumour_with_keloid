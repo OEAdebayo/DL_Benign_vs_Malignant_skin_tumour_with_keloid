{
 "cells": [
  {
   "cell_type": "code",
   "execution_count": 3,
   "metadata": {},
   "outputs": [
    {
     "data": {
      "text/plain": [
       "'1ALX99Nuez1VHrQFm3UZRQrSZrrkEKrky'"
      ]
     },
     "execution_count": 3,
     "metadata": {},
     "output_type": "execute_result"
    }
   ],
   "source": [
    "import gdown\n",
    "\n",
    "url = \"https://drive.google.com/file/d/1ALX99Nuez1VHrQFm3UZRQrSZrrkEKrky/view?usp=sharing\"\n",
    "\n",
    "dataset_id = url.split(\"/\")[-2]\n",
    "dataset_id"
   ]
  },
  {
   "cell_type": "code",
   "execution_count": 4,
   "metadata": {},
   "outputs": [
    {
     "name": "stderr",
     "output_type": "stream",
     "text": [
      "Downloading...\n",
      "From (original): https://drive.google.com/uc?/export=download&id=1ALX99Nuez1VHrQFm3UZRQrSZrrkEKrky\n",
      "From (redirected): https://drive.google.com/uc?%2Fexport=download&id=1ALX99Nuez1VHrQFm3UZRQrSZrrkEKrky&confirm=t&uuid=49dbd8bd-d803-4034-9219-e3042d18b56a\n",
      "To: /home/oadebayo/PhD/DL_Benign_vs_Malignant_skin_tumour_with_keloid/research/Skin_lesion_classification_data.zip\n",
      "100%|██████████| 634M/634M [02:23<00:00, 4.42MB/s] \n"
     ]
    },
    {
     "data": {
      "text/plain": [
       "'Skin_lesion_classification_data.zip'"
      ]
     },
     "execution_count": 4,
     "metadata": {},
     "output_type": "execute_result"
    }
   ],
   "source": [
    "prefix = \"https://drive.google.com/uc?/export=download&id=\"\n",
    "gdown.download(prefix+dataset_id, \"Skin_lesion_classification_data.zip\")"
   ]
  },
  {
   "cell_type": "code",
   "execution_count": null,
   "metadata": {},
   "outputs": [],
   "source": []
  }
 ],
 "metadata": {
  "kernelspec": {
   "display_name": "skincancer",
   "language": "python",
   "name": "python3"
  },
  "language_info": {
   "codemirror_mode": {
    "name": "ipython",
    "version": 3
   },
   "file_extension": ".py",
   "mimetype": "text/x-python",
   "name": "python",
   "nbconvert_exporter": "python",
   "pygments_lexer": "ipython3",
   "version": "3.8.10"
  }
 },
 "nbformat": 4,
 "nbformat_minor": 2
}
