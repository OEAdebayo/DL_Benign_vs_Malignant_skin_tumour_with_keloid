{
 "cells": [
  {
   "cell_type": "code",
   "execution_count": 3,
   "metadata": {},
   "outputs": [],
   "source": [
    "import gdown\n",
    "\n",
    "url = \"https://drive.google.com/file/d/1enFGVoZhyqs81zUBAUfEmhhWqez1KFEA/view?usp=sharing\"\n",
    "\n",
    "dataset_id = url.split(\"/\")[-2]\n",
    "dataset_id"
   ]
  },
  {
   "cell_type": "code",
   "execution_count": 10,
   "metadata": {},
   "outputs": [
    {
     "name": "stderr",
     "output_type": "stream",
     "text": [
      "Downloading...\n",
      "From (original): https://drive.google.com/uc?/export=download&id=1enFGVoZhyqs81zUBAUfEmhhWqez1KFEA\n",
      "From (redirected): https://drive.google.com/uc?%2Fexport=download&id=1enFGVoZhyqs81zUBAUfEmhhWqez1KFEA&confirm=t&uuid=a04d934f-7aad-4a36-92d4-2814e69712b6\n",
      "To: /home/oadebayo/PhD/DL_Benign_vs_Malignant_skin_tumour_with_keloid/research/Skin_lesion_classification_data.zip\n",
      "100%|██████████| 826M/826M [03:06<00:00, 4.43MB/s] \n"
     ]
    },
    {
     "data": {
      "text/plain": [
       "'Skin_lesion_classification_data.zip'"
      ]
     },
     "execution_count": 10,
     "metadata": {},
     "output_type": "execute_result"
    }
   ],
   "source": [
    "prefix = \"https://drive.google.com/uc?/export=download&id=\"\n",
    "gdown.download(prefix+dataset_id, \"Skin_lesion_classification_data.zip\")"
   ]
  },
  {
   "cell_type": "code",
   "execution_count": null,
   "metadata": {},
   "outputs": [],
   "source": []
  }
 ],
 "metadata": {
  "kernelspec": {
   "display_name": "skincancer",
   "language": "python",
   "name": "python3"
  },
  "language_info": {
   "codemirror_mode": {
    "name": "ipython",
    "version": 3
   },
   "file_extension": ".py",
   "mimetype": "text/x-python",
   "name": "python",
   "nbconvert_exporter": "python",
   "pygments_lexer": "ipython3",
   "version": "3.8.10"
  }
 },
 "nbformat": 4,
 "nbformat_minor": 2
}
